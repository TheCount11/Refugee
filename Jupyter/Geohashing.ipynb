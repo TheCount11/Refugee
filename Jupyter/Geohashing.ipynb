{
 "cells": [
  {
   "cell_type": "code",
   "execution_count": 1,
   "id": "differential-brazilian",
   "metadata": {},
   "outputs": [
    {
     "name": "stderr",
     "output_type": "stream",
     "text": [
      "/home/sagnik/miniconda3/envs/workshop_env/lib/python3.8/site-packages/geopandas/_compat.py:106: UserWarning: The Shapely GEOS version (3.9.1-CAPI-1.14.2) is incompatible with the GEOS version PyGEOS was compiled with (3.9.0-CAPI-1.16.2). Conversions between both will be slow.\n",
      "  warnings.warn(\n"
     ]
    }
   ],
   "source": [
    "from pathlib import Path\n",
    "import pandas as pd\n",
    "import geopandas as gpd\n",
    "from pyproj import Transformer, CRS, Proj\n",
    "from geoviews import opts\n",
    "from shapely.geometry import shape, Point, Polygon\n",
    "from shapely.ops import transform\n",
    "from cartopy import crs\n",
    "import holoviews as hv\n",
    "import mapclassify as mc\n",
    "import numpy as np\n",
    "import matplotlib.pyplot as plt\n",
    "from matplotlib import colors\n",
    "from IPython.display import clear_output, display, HTML, Markdown\n",
    "import shapely.speedups as speedups\n",
    "speedups.enable()"
   ]
  },
  {
   "cell_type": "code",
   "execution_count": 2,
   "id": "silent-specific",
   "metadata": {},
   "outputs": [
    {
     "data": {
      "text/html": [
       "<div>\n",
       "<style scoped>\n",
       "    .dataframe tbody tr th:only-of-type {\n",
       "        vertical-align: middle;\n",
       "    }\n",
       "\n",
       "    .dataframe tbody tr th {\n",
       "        vertical-align: top;\n",
       "    }\n",
       "\n",
       "    .dataframe thead th {\n",
       "        text-align: right;\n",
       "    }\n",
       "</style>\n",
       "<table border=\"1\" class=\"dataframe\">\n",
       "  <thead>\n",
       "    <tr style=\"text-align: right;\">\n",
       "      <th></th>\n",
       "      <th>latitude_3</th>\n",
       "      <th>longitude_3</th>\n",
       "      <th>usercount</th>\n",
       "      <th>postcount</th>\n",
       "      <th>hashtags</th>\n",
       "      <th>geometry</th>\n",
       "    </tr>\n",
       "  </thead>\n",
       "  <tbody>\n",
       "    <tr>\n",
       "      <th>0</th>\n",
       "      <td>51.328125</td>\n",
       "      <td>-0.703125</td>\n",
       "      <td>1225</td>\n",
       "      <td>2219</td>\n",
       "      <td>muslimban</td>\n",
       "      <td>POINT (-0.70312 51.32812)</td>\n",
       "    </tr>\n",
       "    <tr>\n",
       "      <th>1</th>\n",
       "      <td>51.328125</td>\n",
       "      <td>-0.703125</td>\n",
       "      <td>1129</td>\n",
       "      <td>2135</td>\n",
       "      <td>refugees</td>\n",
       "      <td>POINT (-0.70312 51.32812)</td>\n",
       "    </tr>\n",
       "    <tr>\n",
       "      <th>2</th>\n",
       "      <td>51.328125</td>\n",
       "      <td>-0.703125</td>\n",
       "      <td>953</td>\n",
       "      <td>1974</td>\n",
       "      <td>refugeeswelcome</td>\n",
       "      <td>POINT (-0.70312 51.32812)</td>\n",
       "    </tr>\n",
       "    <tr>\n",
       "      <th>3</th>\n",
       "      <td>48.515625</td>\n",
       "      <td>2.109375</td>\n",
       "      <td>917</td>\n",
       "      <td>2831</td>\n",
       "      <td>migrants</td>\n",
       "      <td>POINT (2.10938 48.51562)</td>\n",
       "    </tr>\n",
       "    <tr>\n",
       "      <th>4</th>\n",
       "      <td>51.328125</td>\n",
       "      <td>-0.703125</td>\n",
       "      <td>883</td>\n",
       "      <td>1704</td>\n",
       "      <td>immigration</td>\n",
       "      <td>POINT (-0.70312 51.32812)</td>\n",
       "    </tr>\n",
       "  </tbody>\n",
       "</table>\n",
       "</div>"
      ],
      "text/plain": [
       "   latitude_3  longitude_3  usercount  postcount         hashtags  \\\n",
       "0   51.328125    -0.703125       1225       2219        muslimban   \n",
       "1   51.328125    -0.703125       1129       2135         refugees   \n",
       "2   51.328125    -0.703125        953       1974  refugeeswelcome   \n",
       "3   48.515625     2.109375        917       2831         migrants   \n",
       "4   51.328125    -0.703125        883       1704      immigration   \n",
       "\n",
       "                    geometry  \n",
       "0  POINT (-0.70312 51.32812)  \n",
       "1  POINT (-0.70312 51.32812)  \n",
       "2  POINT (-0.70312 51.32812)  \n",
       "3   POINT (2.10938 48.51562)  \n",
       "4  POINT (-0.70312 51.32812)  "
      ]
     },
     "execution_count": 2,
     "metadata": {},
     "output_type": "execute_result"
    }
   ],
   "source": [
    "OUTPUT = Path.cwd().parents[0] / \"Output\"\n",
    "\n",
    "df = pd.read_csv(Path.cwd().parents[0]/ \"CSV\" / \"HLL\" /\"latlng_to_geohash.csv\")\n",
    "\n",
    "gdf = gpd.GeoDataFrame(df, \n",
    "                       geometry=gpd.points_from_xy(df.longitude_3, df.latitude_3),\n",
    "                      crs = \"EPSG:4326\"\n",
    "                      )\n",
    "\n",
    "gdf.head()"
   ]
  },
  {
   "cell_type": "code",
   "execution_count": 3,
   "id": "aerial-outreach",
   "metadata": {},
   "outputs": [],
   "source": [
    "GRID_SIZE_METERS = 250000 \n",
    "                        \n",
    "# target projection: Web Mercator (epsg code)\n",
    "EPSG_CODE = 3857\n",
    "# note: Mollweide defined by _esri_\n",
    "# in epsg.io's database\n",
    "CRS_PROJ = f\"epsg:{EPSG_CODE}\"\n",
    "# Input projection WGS 84\n",
    "CRS_WGS = \"epsg:4326\"\n",
    "\n",
    "# define Transformer ahead of time\n",
    "# with xy-order of coordinates\n",
    "PROJ_TRANSFORMER = Transformer.from_crs(\n",
    "    CRS_WGS, CRS_PROJ, always_xy=True)\n",
    "\n",
    "# also define reverse projection\n",
    "PROJ_TRANSFORMER_BACK = Transformer.from_crs(\n",
    "    CRS_PROJ, CRS_WGS, always_xy=True)"
   ]
  },
  {
   "cell_type": "code",
   "execution_count": 4,
   "id": "secret-restoration",
   "metadata": {},
   "outputs": [],
   "source": [
    "XMIN = PROJ_TRANSFORMER.transform(-18.984375, 27.421875)[0]\n",
    "XMAX = PROJ_TRANSFORMER.transform(35.859375, 27.421875)[0]\n",
    "YMAX = PROJ_TRANSFORMER.transform(49.21875, 71.015625)[1]\n",
    "YMIN = PROJ_TRANSFORMER.transform(49.21875, 27.421875)[1]"
   ]
  },
  {
   "cell_type": "code",
   "execution_count": 5,
   "id": "expired-rapid",
   "metadata": {},
   "outputs": [
    {
     "name": "stdout",
     "output_type": "stream",
     "text": [
      "Projected bounds: [-2113330.9580285526, 3176279.0534006394, 3991847.365165044, 11407616.83504398]\n"
     ]
    }
   ],
   "source": [
    "print(f'Projected bounds: {[XMIN, YMIN, XMAX, YMAX]}')"
   ]
  },
  {
   "cell_type": "code",
   "execution_count": 7,
   "id": "cardiovascular-theater",
   "metadata": {},
   "outputs": [],
   "source": [
    "width = GRID_SIZE_METERS\n",
    "length = GRID_SIZE_METERS\n",
    "cols = list(range(int(np.floor(XMIN)), int(np.ceil(XMAX)), width))\n",
    "rows = list(range(int(np.floor(YMIN)), int(np.ceil(YMAX)), length))\n",
    "\n",
    "\n",
    "polygons = []\n",
    "for x in cols:\n",
    "     for y in rows:\n",
    "            # combine to tuple: (x,y, poly)\n",
    "            # and append to list\n",
    "            polygons.append(\n",
    "                (x, y,\n",
    "                 Polygon([\n",
    "                     (x, y),\n",
    "                     (x+width, y),\n",
    "                     (x+width, y-length),\n",
    "                     (x, y-length)])))\n",
    "grid = pd.DataFrame(polygons)\n",
    "    # name columns\n",
    "col_labels=['xbin', 'ybin', 'bin_poly']\n",
    "grid.columns = col_labels\n",
    "    # use x and y as index columns\n",
    "grid.set_index(['xbin', 'ybin'], inplace=True)\n",
    "grid.head()"
   ]
  },
  {
   "cell_type": "code",
   "execution_count": 8,
   "id": "distinct-builder",
   "metadata": {},
   "outputs": [],
   "source": [
    "grid = gpd.GeoDataFrame(\n",
    "        grid.drop(\n",
    "            columns=[\"bin_poly\"]),\n",
    "            geometry=grid.bin_poly)\n",
    "grid.crs = CRS_PROJ"
   ]
  },
  {
   "cell_type": "code",
   "execution_count": 9,
   "id": "comic-taxation",
   "metadata": {},
   "outputs": [],
   "source": [
    "eu = gpd.read_file(Path.cwd().parents[0]/ \"Europe_coastline_shapefile\" / \"eu_shp_4326.shp\",crs =CRS_WGS)\n",
    "eu = eu.to_crs(CRS_PROJ)"
   ]
  },
  {
   "cell_type": "code",
   "execution_count": 10,
   "id": "previous-peripheral",
   "metadata": {},
   "outputs": [
    {
     "name": "stdout",
     "output_type": "stream",
     "text": [
      "CPU times: user 988 ms, sys: 375 ms, total: 1.36 s\n",
      "Wall time: 883 ms\n"
     ]
    },
    {
     "data": {
      "image/png": "[encoded data removed]",
      "text/plain": [
       "<Figure size 1080x720 with 1 Axes>"
      ]
     },
     "metadata": {
      "needs_background": "light"
     },
     "output_type": "display_data"
    }
   ],
   "source": [
    "%%time\n",
    "\n",
    "base = grid.plot(figsize=(15,10), color='white', edgecolor='black', linewidth=0.1)\n",
    "# combine with world geometry\n",
    "plot = eu.plot(ax=base)"
   ]
  },
  {
   "cell_type": "code",
   "execution_count": 11,
   "id": "numerous-poster",
   "metadata": {},
   "outputs": [
    {
     "data": {
      "text/html": [
       "<div>\n",
       "<style scoped>\n",
       "    .dataframe tbody tr th:only-of-type {\n",
       "        vertical-align: middle;\n",
       "    }\n",
       "\n",
       "    .dataframe tbody tr th {\n",
       "        vertical-align: top;\n",
       "    }\n",
       "\n",
       "    .dataframe thead th {\n",
       "        text-align: right;\n",
       "    }\n",
       "</style>\n",
       "<table border=\"1\" class=\"dataframe\">\n",
       "  <thead>\n",
       "    <tr style=\"text-align: right;\">\n",
       "      <th></th>\n",
       "      <th>latitude_3</th>\n",
       "      <th>longitude_3</th>\n",
       "      <th>usercount</th>\n",
       "      <th>postcount</th>\n",
       "      <th>hashtags</th>\n",
       "      <th>geometry</th>\n",
       "      <th>index_right0</th>\n",
       "      <th>index_right1</th>\n",
       "    </tr>\n",
       "  </thead>\n",
       "  <tbody>\n",
       "    <tr>\n",
       "      <th>0</th>\n",
       "      <td>51.328125</td>\n",
       "      <td>-0.703125</td>\n",
       "      <td>1225</td>\n",
       "      <td>2219</td>\n",
       "      <td>muslimban</td>\n",
       "      <td>POINT (-78271.517 6679541.766)</td>\n",
       "      <td>-113331.0</td>\n",
       "      <td>6926279.0</td>\n",
       "    </tr>\n",
       "    <tr>\n",
       "      <th>1</th>\n",
       "      <td>51.328125</td>\n",
       "      <td>-0.703125</td>\n",
       "      <td>1129</td>\n",
       "      <td>2135</td>\n",
       "      <td>refugees</td>\n",
       "      <td>POINT (-78271.517 6679541.766)</td>\n",
       "      <td>-113331.0</td>\n",
       "      <td>6926279.0</td>\n",
       "    </tr>\n",
       "    <tr>\n",
       "      <th>2</th>\n",
       "      <td>51.328125</td>\n",
       "      <td>-0.703125</td>\n",
       "      <td>953</td>\n",
       "      <td>1974</td>\n",
       "      <td>refugeeswelcome</td>\n",
       "      <td>POINT (-78271.517 6679541.766)</td>\n",
       "      <td>-113331.0</td>\n",
       "      <td>6926279.0</td>\n",
       "    </tr>\n",
       "    <tr>\n",
       "      <th>3</th>\n",
       "      <td>48.515625</td>\n",
       "      <td>2.109375</td>\n",
       "      <td>917</td>\n",
       "      <td>2831</td>\n",
       "      <td>migrants</td>\n",
       "      <td>POINT (234814.551 6193069.198)</td>\n",
       "      <td>136669.0</td>\n",
       "      <td>6426279.0</td>\n",
       "    </tr>\n",
       "    <tr>\n",
       "      <th>4</th>\n",
       "      <td>51.328125</td>\n",
       "      <td>-0.703125</td>\n",
       "      <td>883</td>\n",
       "      <td>1704</td>\n",
       "      <td>immigration</td>\n",
       "      <td>POINT (-78271.517 6679541.766)</td>\n",
       "      <td>-113331.0</td>\n",
       "      <td>6926279.0</td>\n",
       "    </tr>\n",
       "  </tbody>\n",
       "</table>\n",
       "</div>"
      ],
      "text/plain": [
       "   latitude_3  longitude_3  usercount  postcount         hashtags  \\\n",
       "0   51.328125    -0.703125       1225       2219        muslimban   \n",
       "1   51.328125    -0.703125       1129       2135         refugees   \n",
       "2   51.328125    -0.703125        953       1974  refugeeswelcome   \n",
       "3   48.515625     2.109375        917       2831         migrants   \n",
       "4   51.328125    -0.703125        883       1704      immigration   \n",
       "\n",
       "                         geometry  index_right0  index_right1  \n",
       "0  POINT (-78271.517 6679541.766)     -113331.0     6926279.0  \n",
       "1  POINT (-78271.517 6679541.766)     -113331.0     6926279.0  \n",
       "2  POINT (-78271.517 6679541.766)     -113331.0     6926279.0  \n",
       "3  POINT (234814.551 6193069.198)      136669.0     6426279.0  \n",
       "4  POINT (-78271.517 6679541.766)     -113331.0     6926279.0  "
      ]
     },
     "execution_count": 11,
     "metadata": {},
     "output_type": "execute_result"
    }
   ],
   "source": [
    "grid_join = gpd.sjoin(gdf.to_crs(epsg=3857),grid, how=\"left\", op='within')\n",
    "grid_join.head()"
   ]
  },
  {
   "cell_type": "code",
   "execution_count": 12,
   "id": "welsh-collaboration",
   "metadata": {},
   "outputs": [
    {
     "data": {
      "text/plain": [
       "3"
      ]
     },
     "execution_count": 12,
     "metadata": {},
     "output_type": "execute_result"
    }
   ],
   "source": [
    "grid_join.rename(columns={'index_right0': 'xbin','index_right1':'ybin'},inplace = True)\n",
    "grid_join.drop(columns =[\"latitude_3\",\"longitude_3\"],inplace =True)\n",
    "grid_join[\"xbin\"].isna().sum()"
   ]
  },
  {
   "cell_type": "code",
   "execution_count": 13,
   "id": "historic-casino",
   "metadata": {},
   "outputs": [
    {
     "data": {
      "text/plain": [
       "0"
      ]
     },
     "execution_count": 13,
     "metadata": {},
     "output_type": "execute_result"
    }
   ],
   "source": [
    "grid_join=grid_join.dropna()\n",
    "grid_join[\"ybin\"].isna().sum()"
   ]
  },
  {
   "cell_type": "code",
   "execution_count": 14,
   "id": "whole-merit",
   "metadata": {},
   "outputs": [],
   "source": [
    "grid_join = grid_join.drop(columns = ['geometry'])"
   ]
  },
  {
   "cell_type": "code",
   "execution_count": 15,
   "id": "obvious-stream",
   "metadata": {},
   "outputs": [
    {
     "data": {
      "text/html": [
       "<div>\n",
       "<style scoped>\n",
       "    .dataframe tbody tr th:only-of-type {\n",
       "        vertical-align: middle;\n",
       "    }\n",
       "\n",
       "    .dataframe tbody tr th {\n",
       "        vertical-align: top;\n",
       "    }\n",
       "\n",
       "    .dataframe thead th {\n",
       "        text-align: right;\n",
       "    }\n",
       "</style>\n",
       "<table border=\"1\" class=\"dataframe\">\n",
       "  <thead>\n",
       "    <tr style=\"text-align: right;\">\n",
       "      <th></th>\n",
       "      <th>usercount</th>\n",
       "      <th>postcount</th>\n",
       "      <th>hashtags</th>\n",
       "      <th>xbin</th>\n",
       "      <th>ybin</th>\n",
       "    </tr>\n",
       "  </thead>\n",
       "  <tbody>\n",
       "    <tr>\n",
       "      <th>0</th>\n",
       "      <td>1225</td>\n",
       "      <td>2219</td>\n",
       "      <td>muslimban</td>\n",
       "      <td>-113331.0</td>\n",
       "      <td>6926279.0</td>\n",
       "    </tr>\n",
       "    <tr>\n",
       "      <th>1</th>\n",
       "      <td>1129</td>\n",
       "      <td>2135</td>\n",
       "      <td>refugees</td>\n",
       "      <td>-113331.0</td>\n",
       "      <td>6926279.0</td>\n",
       "    </tr>\n",
       "    <tr>\n",
       "      <th>2</th>\n",
       "      <td>953</td>\n",
       "      <td>1974</td>\n",
       "      <td>refugeeswelcome</td>\n",
       "      <td>-113331.0</td>\n",
       "      <td>6926279.0</td>\n",
       "    </tr>\n",
       "    <tr>\n",
       "      <th>3</th>\n",
       "      <td>917</td>\n",
       "      <td>2831</td>\n",
       "      <td>migrants</td>\n",
       "      <td>136669.0</td>\n",
       "      <td>6426279.0</td>\n",
       "    </tr>\n",
       "    <tr>\n",
       "      <th>4</th>\n",
       "      <td>883</td>\n",
       "      <td>1704</td>\n",
       "      <td>immigration</td>\n",
       "      <td>-113331.0</td>\n",
       "      <td>6926279.0</td>\n",
       "    </tr>\n",
       "    <tr>\n",
       "      <th>...</th>\n",
       "      <td>...</td>\n",
       "      <td>...</td>\n",
       "      <td>...</td>\n",
       "      <td>...</td>\n",
       "      <td>...</td>\n",
       "    </tr>\n",
       "    <tr>\n",
       "      <th>143243</th>\n",
       "      <td>1</td>\n",
       "      <td>1</td>\n",
       "      <td>essereumani</td>\n",
       "      <td>1636669.0</td>\n",
       "      <td>5176279.0</td>\n",
       "    </tr>\n",
       "    <tr>\n",
       "      <th>143244</th>\n",
       "      <td>1</td>\n",
       "      <td>1</td>\n",
       "      <td>facciadiculo</td>\n",
       "      <td>1636669.0</td>\n",
       "      <td>5176279.0</td>\n",
       "    </tr>\n",
       "    <tr>\n",
       "      <th>143245</th>\n",
       "      <td>1</td>\n",
       "      <td>1</td>\n",
       "      <td>facebook</td>\n",
       "      <td>1636669.0</td>\n",
       "      <td>5176279.0</td>\n",
       "    </tr>\n",
       "    <tr>\n",
       "      <th>143246</th>\n",
       "      <td>1</td>\n",
       "      <td>1</td>\n",
       "      <td>falsita</td>\n",
       "      <td>1636669.0</td>\n",
       "      <td>5176279.0</td>\n",
       "    </tr>\n",
       "    <tr>\n",
       "      <th>143247</th>\n",
       "      <td>1</td>\n",
       "      <td>1</td>\n",
       "      <td>fanno</td>\n",
       "      <td>1636669.0</td>\n",
       "      <td>5176279.0</td>\n",
       "    </tr>\n",
       "  </tbody>\n",
       "</table>\n",
       "<p>143244 rows × 5 columns</p>\n",
       "</div>"
      ],
      "text/plain": [
       "        usercount  postcount         hashtags       xbin       ybin\n",
       "0            1225       2219        muslimban  -113331.0  6926279.0\n",
       "1            1129       2135         refugees  -113331.0  6926279.0\n",
       "2             953       1974  refugeeswelcome  -113331.0  6926279.0\n",
       "3             917       2831         migrants   136669.0  6426279.0\n",
       "4             883       1704      immigration  -113331.0  6926279.0\n",
       "...           ...        ...              ...        ...        ...\n",
       "143243          1          1      essereumani  1636669.0  5176279.0\n",
       "143244          1          1     facciadiculo  1636669.0  5176279.0\n",
       "143245          1          1         facebook  1636669.0  5176279.0\n",
       "143246          1          1          falsita  1636669.0  5176279.0\n",
       "143247          1          1            fanno  1636669.0  5176279.0\n",
       "\n",
       "[143244 rows x 5 columns]"
      ]
     },
     "execution_count": 15,
     "metadata": {},
     "output_type": "execute_result"
    }
   ],
   "source": [
    "grid_join"
   ]
  },
  {
   "cell_type": "code",
   "execution_count": 16,
   "id": "binary-killer",
   "metadata": {},
   "outputs": [
    {
     "name": "stdout",
     "output_type": "stream",
     "text": [
      "CPU times: user 766 ms, sys: 224 ms, total: 990 ms\n",
      "Wall time: 990 ms\n"
     ]
    },
    {
     "data": {
      "text/html": [
       "<div>\n",
       "<style scoped>\n",
       "    .dataframe tbody tr th:only-of-type {\n",
       "        vertical-align: middle;\n",
       "    }\n",
       "\n",
       "    .dataframe tbody tr th {\n",
       "        vertical-align: top;\n",
       "    }\n",
       "\n",
       "    .dataframe thead th {\n",
       "        text-align: right;\n",
       "    }\n",
       "</style>\n",
       "<table border=\"1\" class=\"dataframe\">\n",
       "  <thead>\n",
       "    <tr style=\"text-align: right;\">\n",
       "      <th></th>\n",
       "      <th>usercount</th>\n",
       "      <th>postcount</th>\n",
       "      <th>hashtags</th>\n",
       "      <th>xbin</th>\n",
       "      <th>ybin</th>\n",
       "      <th>geometry</th>\n",
       "    </tr>\n",
       "  </thead>\n",
       "  <tbody>\n",
       "    <tr>\n",
       "      <th>0</th>\n",
       "      <td>1225</td>\n",
       "      <td>2219</td>\n",
       "      <td>muslimban</td>\n",
       "      <td>-113331.0</td>\n",
       "      <td>6926279.0</td>\n",
       "      <td>POLYGON ((-113331.000 3176279.000, 136669.000 ...</td>\n",
       "    </tr>\n",
       "    <tr>\n",
       "      <th>1</th>\n",
       "      <td>1225</td>\n",
       "      <td>2219</td>\n",
       "      <td>muslimban</td>\n",
       "      <td>-113331.0</td>\n",
       "      <td>6926279.0</td>\n",
       "      <td>POLYGON ((-113331.000 3426279.000, 136669.000 ...</td>\n",
       "    </tr>\n",
       "    <tr>\n",
       "      <th>2</th>\n",
       "      <td>1225</td>\n",
       "      <td>2219</td>\n",
       "      <td>muslimban</td>\n",
       "      <td>-113331.0</td>\n",
       "      <td>6926279.0</td>\n",
       "      <td>POLYGON ((-113331.000 3676279.000, 136669.000 ...</td>\n",
       "    </tr>\n",
       "    <tr>\n",
       "      <th>3</th>\n",
       "      <td>1225</td>\n",
       "      <td>2219</td>\n",
       "      <td>muslimban</td>\n",
       "      <td>-113331.0</td>\n",
       "      <td>6926279.0</td>\n",
       "      <td>POLYGON ((-113331.000 3926279.000, 136669.000 ...</td>\n",
       "    </tr>\n",
       "    <tr>\n",
       "      <th>4</th>\n",
       "      <td>1225</td>\n",
       "      <td>2219</td>\n",
       "      <td>muslimban</td>\n",
       "      <td>-113331.0</td>\n",
       "      <td>6926279.0</td>\n",
       "      <td>POLYGON ((-113331.000 4176279.000, 136669.000 ...</td>\n",
       "    </tr>\n",
       "    <tr>\n",
       "      <th>...</th>\n",
       "      <td>...</td>\n",
       "      <td>...</td>\n",
       "      <td>...</td>\n",
       "      <td>...</td>\n",
       "      <td>...</td>\n",
       "      <td>...</td>\n",
       "    </tr>\n",
       "    <tr>\n",
       "      <th>4727047</th>\n",
       "      <td>1</td>\n",
       "      <td>1</td>\n",
       "      <td>immigration</td>\n",
       "      <td>3636669.0</td>\n",
       "      <td>4926279.0</td>\n",
       "      <td>POLYGON ((3636669.000 10176279.000, 3886669.00...</td>\n",
       "    </tr>\n",
       "    <tr>\n",
       "      <th>4727048</th>\n",
       "      <td>1</td>\n",
       "      <td>1</td>\n",
       "      <td>immigration</td>\n",
       "      <td>3636669.0</td>\n",
       "      <td>4926279.0</td>\n",
       "      <td>POLYGON ((3636669.000 10426279.000, 3886669.00...</td>\n",
       "    </tr>\n",
       "    <tr>\n",
       "      <th>4727049</th>\n",
       "      <td>1</td>\n",
       "      <td>1</td>\n",
       "      <td>immigration</td>\n",
       "      <td>3636669.0</td>\n",
       "      <td>4926279.0</td>\n",
       "      <td>POLYGON ((3636669.000 10676279.000, 3886669.00...</td>\n",
       "    </tr>\n",
       "    <tr>\n",
       "      <th>4727050</th>\n",
       "      <td>1</td>\n",
       "      <td>1</td>\n",
       "      <td>immigration</td>\n",
       "      <td>3636669.0</td>\n",
       "      <td>4926279.0</td>\n",
       "      <td>POLYGON ((3636669.000 10926279.000, 3886669.00...</td>\n",
       "    </tr>\n",
       "    <tr>\n",
       "      <th>4727051</th>\n",
       "      <td>1</td>\n",
       "      <td>1</td>\n",
       "      <td>immigration</td>\n",
       "      <td>3636669.0</td>\n",
       "      <td>4926279.0</td>\n",
       "      <td>POLYGON ((3636669.000 11176279.000, 3886669.00...</td>\n",
       "    </tr>\n",
       "  </tbody>\n",
       "</table>\n",
       "<p>4727052 rows × 6 columns</p>\n",
       "</div>"
      ],
      "text/plain": [
       "         usercount  postcount     hashtags       xbin       ybin  \\\n",
       "0             1225       2219    muslimban  -113331.0  6926279.0   \n",
       "1             1225       2219    muslimban  -113331.0  6926279.0   \n",
       "2             1225       2219    muslimban  -113331.0  6926279.0   \n",
       "3             1225       2219    muslimban  -113331.0  6926279.0   \n",
       "4             1225       2219    muslimban  -113331.0  6926279.0   \n",
       "...            ...        ...          ...        ...        ...   \n",
       "4727047          1          1  immigration  3636669.0  4926279.0   \n",
       "4727048          1          1  immigration  3636669.0  4926279.0   \n",
       "4727049          1          1  immigration  3636669.0  4926279.0   \n",
       "4727050          1          1  immigration  3636669.0  4926279.0   \n",
       "4727051          1          1  immigration  3636669.0  4926279.0   \n",
       "\n",
       "                                                  geometry  \n",
       "0        POLYGON ((-113331.000 3176279.000, 136669.000 ...  \n",
       "1        POLYGON ((-113331.000 3426279.000, 136669.000 ...  \n",
       "2        POLYGON ((-113331.000 3676279.000, 136669.000 ...  \n",
       "3        POLYGON ((-113331.000 3926279.000, 136669.000 ...  \n",
       "4        POLYGON ((-113331.000 4176279.000, 136669.000 ...  \n",
       "...                                                    ...  \n",
       "4727047  POLYGON ((3636669.000 10176279.000, 3886669.00...  \n",
       "4727048  POLYGON ((3636669.000 10426279.000, 3886669.00...  \n",
       "4727049  POLYGON ((3636669.000 10676279.000, 3886669.00...  \n",
       "4727050  POLYGON ((3636669.000 10926279.000, 3886669.00...  \n",
       "4727051  POLYGON ((3636669.000 11176279.000, 3886669.00...  \n",
       "\n",
       "[4727052 rows x 6 columns]"
      ]
     },
     "execution_count": 16,
     "metadata": {},
     "output_type": "execute_result"
    }
   ],
   "source": [
    "%%time\n",
    "grid_map = grid_join.merge(grid, on='xbin')\n",
    "grid_map"
   ]
  },
  {
   "cell_type": "code",
   "execution_count": 17,
   "id": "sudden-pencil",
   "metadata": {},
   "outputs": [
    {
     "data": {
      "text/plain": [
       "<Projected CRS: EPSG:3857>\n",
       "Name: WGS 84 / Pseudo-Mercator\n",
       "Axis Info [cartesian]:\n",
       "- X[east]: Easting (metre)\n",
       "- Y[north]: Northing (metre)\n",
       "Area of Use:\n",
       "- name: World between 85.06°S and 85.06°N.\n",
       "- bounds: (-180.0, -85.06, 180.0, 85.06)\n",
       "Coordinate Operation:\n",
       "- name: Popular Visualisation Pseudo-Mercator\n",
       "- method: Popular Visualisation Pseudo Mercator\n",
       "Datum: World Geodetic System 1984\n",
       "- Ellipsoid: WGS 84\n",
       "- Prime Meridian: Greenwich"
      ]
     },
     "execution_count": 17,
     "metadata": {},
     "output_type": "execute_result"
    }
   ],
   "source": [
    "grid_map.crs"
   ]
  },
  {
   "cell_type": "code",
   "execution_count": 19,
   "id": "handmade-scholar",
   "metadata": {},
   "outputs": [
    {
     "name": "stdout",
     "output_type": "stream",
     "text": [
      "Collecting pyarrow\n",
      "  Downloading pyarrow-4.0.0-cp38-cp38-manylinux2014_x86_64.whl (21.9 MB)\n",
      "\u001b[K     |████████████████████████████████| 21.9 MB 100 kB/s eta 0:00:01     |██████████████████              | 12.3 MB 9.2 MB/s eta 0:00:02     |█████████████████████████▍      | 17.3 MB 4.8 MB/s eta 0:00:01     |██████████████████████████████▉ | 21.1 MB 4.8 MB/s eta 0:00:01\n",
      "\u001b[?25hRequirement already satisfied: numpy>=1.16.6 in /home/sagnik/miniconda3/envs/workshop_env/lib/python3.8/site-packages (from pyarrow) (1.20.1)\n",
      "Installing collected packages: pyarrow\n",
      "Successfully installed pyarrow-4.0.0\n"
     ]
    }
   ],
   "source": [
    "!pip install pyarrow"
   ]
  },
  {
   "cell_type": "code",
   "execution_count": 20,
   "id": "antique-integrity",
   "metadata": {},
   "outputs": [
    {
     "name": "stderr",
     "output_type": "stream",
     "text": [
      "<timed eval>:1: UserWarning: this is an initial implementation of Parquet/Feather file support and associated metadata.  This is tracking version 0.1.0 of the metadata specification at https://github.com/geopandas/geo-arrow-spec\n",
      "\n",
      "This metadata specification does not yet make stability promises.  We do not yet recommend using this in a production setting unless you are able to rewrite your Parquet/Feather files.\n",
      "\n",
      "To further ignore this warning, you can do: \n",
      "import warnings; warnings.filterwarnings('ignore', message='.*initial implementation of Parquet.*')\n"
     ]
    },
    {
     "name": "stdout",
     "output_type": "stream",
     "text": [
      "CPU times: user 43.7 s, sys: 1.45 s, total: 45.1 s\n",
      "Wall time: 49.7 s\n"
     ]
    }
   ],
   "source": [
    "%%time\n",
    "grid_map.to_feather(OUTPUT /'geohash_hll.feather') "
   ]
  }
 ],
 "metadata": {
  "kernelspec": {
   "display_name": "Python 3",
   "language": "python",
   "name": "python3"
  },
  "language_info": {
   "codemirror_mode": {
    "name": "ipython",
    "version": 3
   },
   "file_extension": ".py",
   "mimetype": "text/x-python",
   "name": "python",
   "nbconvert_exporter": "python",
   "pygments_lexer": "ipython3",
   "version": "3.8.8"
  }
 },
 "nbformat": 4,
 "nbformat_minor": 5
}
